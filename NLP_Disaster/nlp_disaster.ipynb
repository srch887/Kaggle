{
 "cells": [
  {
   "cell_type": "markdown",
   "metadata": {},
   "source": [
    "## In accordance to the \"Natural Language Processing with Disaster Tweets\" competition. \n",
    "https://www.kaggle.com/c/nlp-getting-started"
   ]
  },
  {
   "cell_type": "code",
   "execution_count": 1,
   "metadata": {
    "execution": {
     "iopub.execute_input": "2021-07-25T15:45:51.865148Z",
     "iopub.status.busy": "2021-07-25T15:45:51.864723Z",
     "iopub.status.idle": "2021-07-25T15:45:51.872354Z",
     "shell.execute_reply": "2021-07-25T15:45:51.871329Z",
     "shell.execute_reply.started": "2021-07-25T15:45:51.865117Z"
    }
   },
   "outputs": [],
   "source": [
    "import numpy as np\n",
    "import pandas as pd\n",
    "\n",
    "import string"
   ]
  },
  {
   "cell_type": "code",
   "execution_count": 2,
   "metadata": {
    "execution": {
     "iopub.execute_input": "2021-07-25T15:45:51.874129Z",
     "iopub.status.busy": "2021-07-25T15:45:51.873836Z",
     "iopub.status.idle": "2021-07-25T15:45:51.950887Z",
     "shell.execute_reply": "2021-07-25T15:45:51.949826Z",
     "shell.execute_reply.started": "2021-07-25T15:45:51.874101Z"
    }
   },
   "outputs": [],
   "source": [
    "train = pd.read_csv('./train.csv')\n",
    "\n",
    "test = pd.read_csv('./test.csv')"
   ]
  },
  {
   "cell_type": "code",
   "execution_count": 3,
   "metadata": {
    "execution": {
     "iopub.execute_input": "2021-07-25T15:45:51.952709Z",
     "iopub.status.busy": "2021-07-25T15:45:51.952390Z",
     "iopub.status.idle": "2021-07-25T15:45:51.968295Z",
     "shell.execute_reply": "2021-07-25T15:45:51.967053Z",
     "shell.execute_reply.started": "2021-07-25T15:45:51.952675Z"
    }
   },
   "outputs": [],
   "source": [
    "df = pd.concat([train, test])"
   ]
  },
  {
   "cell_type": "code",
   "execution_count": 4,
   "metadata": {
    "execution": {
     "iopub.execute_input": "2021-07-25T15:45:51.971272Z",
     "iopub.status.busy": "2021-07-25T15:45:51.970749Z",
     "iopub.status.idle": "2021-07-25T15:45:51.985625Z",
     "shell.execute_reply": "2021-07-25T15:45:51.984299Z",
     "shell.execute_reply.started": "2021-07-25T15:45:51.971229Z"
    }
   },
   "outputs": [],
   "source": [
    "df['word_count'] = df['text'].apply(len)"
   ]
  },
  {
   "cell_type": "code",
   "execution_count": 5,
   "metadata": {},
   "outputs": [],
   "source": [
    "import nltk"
   ]
  },
  {
   "cell_type": "code",
   "execution_count": 6,
   "metadata": {
    "execution": {
     "iopub.execute_input": "2021-07-25T15:45:51.988336Z",
     "iopub.status.busy": "2021-07-25T15:45:51.987781Z",
     "iopub.status.idle": "2021-07-25T15:45:52.018774Z",
     "shell.execute_reply": "2021-07-25T15:45:52.017561Z",
     "shell.execute_reply.started": "2021-07-25T15:45:51.988292Z"
    }
   },
   "outputs": [],
   "source": [
    "abbreviations = {\n",
    "    \"$\" : \" dollar \",\n",
    "    \"€\" : \" euro \",\n",
    "    \"4ao\" : \"for adults only\",\n",
    "    \"a.m\" : \"before midday\",\n",
    "    \"a3\" : \"anytime anywhere anyplace\",\n",
    "    \"aamof\" : \"as a matter of fact\",\n",
    "    \"acct\" : \"account\",\n",
    "    \"adih\" : \"another day in hell\",\n",
    "    \"afaic\" : \"as far as i am concerned\",\n",
    "    \"afaict\" : \"as far as i can tell\",\n",
    "    \"afaik\" : \"as far as i know\",\n",
    "    \"afair\" : \"as far as i remember\",\n",
    "    \"afk\" : \"away from keyboard\",\n",
    "    \"app\" : \"application\",\n",
    "    \"approx\" : \"approximately\",\n",
    "    \"apps\" : \"applications\",\n",
    "    \"asap\" : \"as soon as possible\",\n",
    "    \"asl\" : \"age, sex, location\",\n",
    "    \"atk\" : \"at the keyboard\",\n",
    "    \"ave.\" : \"avenue\",\n",
    "    \"aymm\" : \"are you my mother\",\n",
    "    \"ayor\" : \"at your own risk\", \n",
    "    \"b&b\" : \"bed and breakfast\",\n",
    "    \"b+b\" : \"bed and breakfast\",\n",
    "    \"b.c\" : \"before christ\",\n",
    "    \"b2b\" : \"business to business\",\n",
    "    \"b2c\" : \"business to customer\",\n",
    "    \"b4\" : \"before\",\n",
    "    \"b4n\" : \"bye for now\",\n",
    "    \"b@u\" : \"back at you\",\n",
    "    \"bae\" : \"before anyone else\",\n",
    "    \"bak\" : \"back at keyboard\",\n",
    "    \"bbbg\" : \"bye bye be good\",\n",
    "    \"bbc\" : \"british broadcasting corporation\",\n",
    "    \"bbias\" : \"be back in a second\",\n",
    "    \"bbl\" : \"be back later\",\n",
    "    \"bbs\" : \"be back soon\",\n",
    "    \"be4\" : \"before\",\n",
    "    \"bfn\" : \"bye for now\",\n",
    "    \"blvd\" : \"boulevard\",\n",
    "    \"bout\" : \"about\",\n",
    "    \"brb\" : \"be right back\",\n",
    "    \"bros\" : \"brothers\",\n",
    "    \"brt\" : \"be right there\",\n",
    "    \"bsaaw\" : \"big smile and a wink\",\n",
    "    \"btw\" : \"by the way\",\n",
    "    \"bwl\" : \"bursting with laughter\",\n",
    "    \"c/o\" : \"care of\",\n",
    "    \"cet\" : \"central european time\",\n",
    "    \"cf\" : \"compare\",\n",
    "    \"cia\" : \"central intelligence agency\",\n",
    "    \"csl\" : \"can not stop laughing\",\n",
    "    \"cu\" : \"see you\",\n",
    "    \"cul8r\" : \"see you later\",\n",
    "    \"cv\" : \"curriculum vitae\",\n",
    "    \"cwot\" : \"complete waste of time\",\n",
    "    \"cya\" : \"see you\",\n",
    "    \"cyt\" : \"see you tomorrow\",\n",
    "    \"dae\" : \"does anyone else\",\n",
    "    \"dbmib\" : \"do not bother me i am busy\",\n",
    "    \"diy\" : \"do it yourself\",\n",
    "    \"dm\" : \"direct message\",\n",
    "    \"dwh\" : \"during work hours\",\n",
    "    \"e123\" : \"easy as one two three\",\n",
    "    \"eet\" : \"eastern european time\",\n",
    "    \"eg\" : \"example\",\n",
    "    \"embm\" : \"early morning business meeting\",\n",
    "    \"encl\" : \"enclosed\",\n",
    "    \"encl.\" : \"enclosed\",\n",
    "    \"etc\" : \"and so on\",\n",
    "    \"faq\" : \"frequently asked questions\",\n",
    "    \"fawc\" : \"for anyone who cares\",\n",
    "    \"fb\" : \"facebook\",\n",
    "    \"fc\" : \"fingers crossed\",\n",
    "    \"fig\" : \"figure\",\n",
    "    \"fimh\" : \"forever in my heart\", \n",
    "    \"ft.\" : \"feet\",\n",
    "    \"ft\" : \"featuring\",\n",
    "    \"ftl\" : \"for the loss\",\n",
    "    \"ftw\" : \"for the win\",\n",
    "    \"fwiw\" : \"for what it is worth\",\n",
    "    \"fyi\" : \"for your information\",\n",
    "    \"g9\" : \"genius\",\n",
    "    \"gahoy\" : \"get a hold of yourself\",\n",
    "    \"gal\" : \"get a life\",\n",
    "    \"gcse\" : \"general certificate of secondary education\",\n",
    "    \"gfn\" : \"gone for now\",\n",
    "    \"gg\" : \"good game\",\n",
    "    \"gl\" : \"good luck\",\n",
    "    \"glhf\" : \"good luck have fun\",\n",
    "    \"gmt\" : \"greenwich mean time\",\n",
    "    \"gmta\" : \"great minds think alike\",\n",
    "    \"gn\" : \"good night\",\n",
    "    \"g.o.a.t\" : \"greatest of all time\",\n",
    "    \"goat\" : \"greatest of all time\",\n",
    "    \"goi\" : \"get over it\",\n",
    "    \"gps\" : \"global positioning system\",\n",
    "    \"gr8\" : \"great\",\n",
    "    \"gratz\" : \"congratulations\",\n",
    "    \"gyal\" : \"girl\",\n",
    "    \"h&c\" : \"hot and cold\",\n",
    "    \"hp\" : \"horsepower\",\n",
    "    \"hr\" : \"hour\",\n",
    "    \"hrh\" : \"his royal highness\",\n",
    "    \"ht\" : \"height\",\n",
    "    \"ibrb\" : \"i will be right back\",\n",
    "    \"ic\" : \"i see\",\n",
    "    \"icq\" : \"i seek you\",\n",
    "    \"icymi\" : \"in case you missed it\",\n",
    "    \"idc\" : \"i do not care\",\n",
    "    \"idgadf\" : \"i do not give a damn fuck\",\n",
    "    \"idgaf\" : \"i do not give a fuck\",\n",
    "    \"idk\" : \"i do not know\",\n",
    "    \"ie\" : \"that is\",\n",
    "    \"i.e\" : \"that is\",\n",
    "    \"ifyp\" : \"i feel your pain\",\n",
    "    \"IG\" : \"instagram\",\n",
    "    \"iirc\" : \"if i remember correctly\",\n",
    "    \"ilu\" : \"i love you\",\n",
    "    \"ily\" : \"i love you\",\n",
    "    \"imho\" : \"in my humble opinion\",\n",
    "    \"imo\" : \"in my opinion\",\n",
    "    \"imu\" : \"i miss you\",\n",
    "    \"iow\" : \"in other words\",\n",
    "    \"irl\" : \"in real life\",\n",
    "    \"j4f\" : \"just for fun\",\n",
    "    \"jic\" : \"just in case\",\n",
    "    \"jk\" : \"just kidding\",\n",
    "    \"jsyk\" : \"just so you know\",\n",
    "    \"l8r\" : \"later\",\n",
    "    \"lb\" : \"pound\",\n",
    "    \"lbs\" : \"pounds\",\n",
    "    \"ldr\" : \"long distance relationship\",\n",
    "    \"lmao\" : \"laugh my ass off\",\n",
    "    \"lmfao\" : \"laugh my fucking ass off\",\n",
    "    \"lol\" : \"laughing out loud\",\n",
    "    \"ltd\" : \"limited\",\n",
    "    \"ltns\" : \"long time no see\",\n",
    "    \"m8\" : \"mate\",\n",
    "    \"mf\" : \"motherfucker\",\n",
    "    \"mfs\" : \"motherfuckers\",\n",
    "    \"mfw\" : \"my face when\",\n",
    "    \"mofo\" : \"motherfucker\",\n",
    "    \"mph\" : \"miles per hour\",\n",
    "    \"mr\" : \"mister\",\n",
    "    \"mrw\" : \"my reaction when\",\n",
    "    \"ms\" : \"miss\",\n",
    "    \"mte\" : \"my thoughts exactly\",\n",
    "    \"nagi\" : \"not a good idea\",\n",
    "    \"nbc\" : \"national broadcasting company\",\n",
    "    \"nbd\" : \"not big deal\",\n",
    "    \"nfs\" : \"not for sale\",\n",
    "    \"ngl\" : \"not going to lie\",\n",
    "    \"nhs\" : \"national health service\",\n",
    "    \"nrn\" : \"no reply necessary\",\n",
    "    \"nsfl\" : \"not safe for life\",\n",
    "    \"nsfw\" : \"not safe for work\",\n",
    "    \"nth\" : \"nice to have\",\n",
    "    \"nvr\" : \"never\",\n",
    "    \"nyc\" : \"new york city\",\n",
    "    \"oc\" : \"original content\",\n",
    "    \"og\" : \"original\",\n",
    "    \"ohp\" : \"overhead projector\",\n",
    "    \"oic\" : \"oh i see\",\n",
    "    \"omdb\" : \"over my dead body\",\n",
    "    \"omg\" : \"oh my god\",\n",
    "    \"omw\" : \"on my way\",\n",
    "    \"p.a\" : \"per annum\",\n",
    "    \"p.m\" : \"after midday\",\n",
    "    \"pm\" : \"prime minister\",\n",
    "    \"poc\" : \"people of color\",\n",
    "    \"pov\" : \"point of view\",\n",
    "    \"pp\" : \"pages\",\n",
    "    \"ppl\" : \"people\",\n",
    "    \"prw\" : \"parents are watching\",\n",
    "    \"ps\" : \"postscript\",\n",
    "    \"pt\" : \"point\",\n",
    "    \"ptb\" : \"please text back\",\n",
    "    \"pto\" : \"please turn over\",\n",
    "    \"qpsa\" : \"what happens\", #\"que pasa\",\n",
    "    \"ratchet\" : \"rude\",\n",
    "    \"rbtl\" : \"read between the lines\",\n",
    "    \"rlrt\" : \"real life retweet\", \n",
    "    \"rofl\" : \"rolling on the floor laughing\",\n",
    "    \"roflol\" : \"rolling on the floor laughing out loud\",\n",
    "    \"rotflmao\" : \"rolling on the floor laughing my ass off\",\n",
    "    \"rt\" : \"retweet\",\n",
    "    \"ruok\" : \"are you ok\",\n",
    "    \"sfw\" : \"safe for work\",\n",
    "    \"sk8\" : \"skate\",\n",
    "    \"smh\" : \"shake my head\",\n",
    "    \"sq\" : \"square\",\n",
    "    \"srsly\" : \"seriously\", \n",
    "    \"ssdd\" : \"same stuff different day\",\n",
    "    \"tbh\" : \"to be honest\",\n",
    "    \"tbs\" : \"tablespooful\",\n",
    "    \"tbsp\" : \"tablespooful\",\n",
    "    \"tfw\" : \"that feeling when\",\n",
    "    \"thks\" : \"thank you\",\n",
    "    \"tho\" : \"though\",\n",
    "    \"thx\" : \"thank you\",\n",
    "    \"tia\" : \"thanks in advance\",\n",
    "    \"til\" : \"today i learned\",\n",
    "    \"tl;dr\" : \"too long i did not read\",\n",
    "    \"tldr\" : \"too long i did not read\",\n",
    "    \"tmb\" : \"tweet me back\",\n",
    "    \"tntl\" : \"trying not to laugh\",\n",
    "    \"ttyl\" : \"talk to you later\",\n",
    "    \"u\" : \"you\",\n",
    "    \"u2\" : \"you too\",\n",
    "    \"u4e\" : \"yours for ever\",\n",
    "    \"utc\" : \"coordinated universal time\",\n",
    "    \"w/\" : \"with\",\n",
    "    \"w/o\" : \"without\",\n",
    "    \"w8\" : \"wait\",\n",
    "    \"wassup\" : \"what is up\",\n",
    "    \"wb\" : \"welcome back\",\n",
    "    \"wtf\" : \"what the fuck\",\n",
    "    \"wtg\" : \"way to go\",\n",
    "    \"wtpa\" : \"where the party at\",\n",
    "    \"wuf\" : \"where are you from\",\n",
    "    \"wuzup\" : \"what is up\",\n",
    "    \"wywh\" : \"wish you were here\",\n",
    "    \"yd\" : \"yard\",\n",
    "    \"ygtr\" : \"you got that right\",\n",
    "    \"ynk\" : \"you never know\",\n",
    "    \"zzz\" : \"sleeping bored and tired\"\n",
    "}"
   ]
  },
  {
   "cell_type": "code",
   "execution_count": 7,
   "metadata": {
    "execution": {
     "iopub.execute_input": "2021-07-25T15:45:52.022454Z",
     "iopub.status.busy": "2021-07-25T15:45:52.021942Z",
     "iopub.status.idle": "2021-07-25T15:45:53.477565Z",
     "shell.execute_reply": "2021-07-25T15:45:53.476616Z",
     "shell.execute_reply.started": "2021-07-25T15:45:52.022411Z"
    }
   },
   "outputs": [],
   "source": [
    "from nltk.corpus import stopwords"
   ]
  },
  {
   "cell_type": "code",
   "execution_count": 8,
   "metadata": {
    "execution": {
     "iopub.execute_input": "2021-07-25T15:45:53.479631Z",
     "iopub.status.busy": "2021-07-25T15:45:53.479211Z",
     "iopub.status.idle": "2021-07-25T15:45:53.486747Z",
     "shell.execute_reply": "2021-07-25T15:45:53.485772Z",
     "shell.execute_reply.started": "2021-07-25T15:45:53.479598Z"
    }
   },
   "outputs": [],
   "source": [
    "def replace_abbr(text):\n",
    "    \n",
    "    text_abbr = []\n",
    "    \n",
    "    for word in str(text).split():\n",
    "        if word.lower() in abbreviations:\n",
    "            text_abbr.append(abbreviations[word.lower()])\n",
    "        else:\n",
    "            text_abbr.append(word)\n",
    "            \n",
    "    return(' '.join(text_abbr).lower())\n",
    "\n",
    "# Function to replace abbreviations\n",
    "\n",
    "def main_words(text):\n",
    "    text_nopunc = [char for char in text if char not in string.punctuation]\n",
    "    text_nopunc = ''.join(text_nopunc)\n",
    "    \n",
    "    return([word for word in text_nopunc.split() if word not in stopwords.words('english')])\n",
    "\n",
    "#Remove punctuations and common words like \"is\", \"are\", \"has\" etc."
   ]
  },
  {
   "cell_type": "code",
   "execution_count": 9,
   "metadata": {
    "execution": {
     "iopub.execute_input": "2021-07-25T15:45:53.488257Z",
     "iopub.status.busy": "2021-07-25T15:45:53.487993Z",
     "iopub.status.idle": "2021-07-25T15:45:53.526433Z",
     "shell.execute_reply": "2021-07-25T15:45:53.525526Z",
     "shell.execute_reply.started": "2021-07-25T15:45:53.488232Z"
    }
   },
   "outputs": [
    {
     "data": {
      "text/plain": [
       "derailment             39\n",
       "wreckage               39\n",
       "outbreak               39\n",
       "oil%20spill            37\n",
       "typhoon                37\n",
       "debris                 37\n",
       "suicide%20bomb         32\n",
       "evacuated              32\n",
       "rescuers               32\n",
       "suicide%20bombing      32\n",
       "razed                  31\n",
       "nuclear%20disaster     31\n",
       "airplane%20accident    30\n",
       "suicide%20bomber       30\n",
       "earthquake             30\n",
       "wildfire               29\n",
       "bridge%20collapse      29\n",
       "collision              29\n",
       "mass%20murder          28\n",
       "sandstorm              28\n",
       "Name: keyword, dtype: int64"
      ]
     },
     "execution_count": 9,
     "metadata": {},
     "output_type": "execute_result"
    }
   ],
   "source": [
    "df[df['target'] == 1]['keyword'].value_counts().head(20)"
   ]
  },
  {
   "cell_type": "code",
   "execution_count": 10,
   "metadata": {
    "execution": {
     "iopub.execute_input": "2021-07-25T15:45:53.528003Z",
     "iopub.status.busy": "2021-07-25T15:45:53.527584Z",
     "iopub.status.idle": "2021-07-25T15:45:53.610047Z",
     "shell.execute_reply": "2021-07-25T15:45:53.609140Z",
     "shell.execute_reply.started": "2021-07-25T15:45:53.527974Z"
    }
   },
   "outputs": [],
   "source": [
    "df['text'] = df['text'].apply(replace_abbr)"
   ]
  },
  {
   "cell_type": "code",
   "execution_count": 11,
   "metadata": {
    "execution": {
     "iopub.execute_input": "2021-07-25T15:45:53.612170Z",
     "iopub.status.busy": "2021-07-25T15:45:53.611525Z",
     "iopub.status.idle": "2021-07-25T15:46:13.885192Z",
     "shell.execute_reply": "2021-07-25T15:46:13.884029Z",
     "shell.execute_reply.started": "2021-07-25T15:45:53.612125Z"
    }
   },
   "outputs": [],
   "source": [
    "df['text'] = df['text'].apply(main_words).apply(' '.join)"
   ]
  },
  {
   "cell_type": "code",
   "execution_count": 12,
   "metadata": {
    "execution": {
     "iopub.execute_input": "2021-07-25T15:46:13.889008Z",
     "iopub.status.busy": "2021-07-25T15:46:13.888712Z",
     "iopub.status.idle": "2021-07-25T15:46:13.899752Z",
     "shell.execute_reply": "2021-07-25T15:46:13.898717Z",
     "shell.execute_reply.started": "2021-07-25T15:46:13.888977Z"
    }
   },
   "outputs": [],
   "source": [
    "target_key = pd.get_dummies(df['keyword'], drop_first = True)"
   ]
  },
  {
   "cell_type": "code",
   "execution_count": 13,
   "metadata": {
    "execution": {
     "iopub.execute_input": "2021-07-25T15:46:13.901506Z",
     "iopub.status.busy": "2021-07-25T15:46:13.901037Z",
     "iopub.status.idle": "2021-07-25T15:46:13.918146Z",
     "shell.execute_reply": "2021-07-25T15:46:13.917217Z",
     "shell.execute_reply.started": "2021-07-25T15:46:13.901463Z"
    }
   },
   "outputs": [],
   "source": [
    "df = pd.concat([df.drop(['keyword'], axis = 1), target_key], axis = 1)"
   ]
  },
  {
   "cell_type": "code",
   "execution_count": 14,
   "metadata": {
    "execution": {
     "iopub.execute_input": "2021-07-25T15:46:13.919829Z",
     "iopub.status.busy": "2021-07-25T15:46:13.919468Z",
     "iopub.status.idle": "2021-07-25T15:46:13.924452Z",
     "shell.execute_reply": "2021-07-25T15:46:13.923508Z",
     "shell.execute_reply.started": "2021-07-25T15:46:13.919797Z"
    }
   },
   "outputs": [],
   "source": [
    "train_fin = df.iloc[:7613]"
   ]
  },
  {
   "cell_type": "code",
   "execution_count": 15,
   "metadata": {
    "execution": {
     "iopub.execute_input": "2021-07-25T15:46:13.927577Z",
     "iopub.status.busy": "2021-07-25T15:46:13.927261Z",
     "iopub.status.idle": "2021-07-25T15:46:13.935423Z",
     "shell.execute_reply": "2021-07-25T15:46:13.934655Z",
     "shell.execute_reply.started": "2021-07-25T15:46:13.927549Z"
    }
   },
   "outputs": [],
   "source": [
    "test_fin = df.iloc[7613:]"
   ]
  },
  {
   "cell_type": "code",
   "execution_count": 16,
   "metadata": {
    "execution": {
     "iopub.execute_input": "2021-07-25T15:46:13.937015Z",
     "iopub.status.busy": "2021-07-25T15:46:13.936717Z",
     "iopub.status.idle": "2021-07-25T15:46:13.947693Z",
     "shell.execute_reply": "2021-07-25T15:46:13.946683Z",
     "shell.execute_reply.started": "2021-07-25T15:46:13.936976Z"
    }
   },
   "outputs": [],
   "source": [
    "from sklearn.feature_extraction.text import CountVectorizer"
   ]
  },
  {
   "cell_type": "code",
   "execution_count": 17,
   "metadata": {
    "execution": {
     "iopub.execute_input": "2021-07-25T15:46:13.949497Z",
     "iopub.status.busy": "2021-07-25T15:46:13.949077Z",
     "iopub.status.idle": "2021-07-25T15:46:13.960689Z",
     "shell.execute_reply": "2021-07-25T15:46:13.959517Z",
     "shell.execute_reply.started": "2021-07-25T15:46:13.949457Z"
    }
   },
   "outputs": [],
   "source": [
    "cv = CountVectorizer()"
   ]
  },
  {
   "cell_type": "code",
   "execution_count": 18,
   "metadata": {
    "execution": {
     "iopub.execute_input": "2021-07-25T15:46:13.962528Z",
     "iopub.status.busy": "2021-07-25T15:46:13.962119Z",
     "iopub.status.idle": "2021-07-25T15:46:14.223882Z",
     "shell.execute_reply": "2021-07-25T15:46:14.223161Z",
     "shell.execute_reply.started": "2021-07-25T15:46:13.962486Z"
    }
   },
   "outputs": [],
   "source": [
    "train_vectors = cv.fit_transform(train_fin['text'])\n",
    "\n",
    "test_vectors = cv.transform(test_fin['text'])"
   ]
  },
  {
   "cell_type": "markdown",
   "metadata": {},
   "source": [
    "## Classification"
   ]
  },
  {
   "cell_type": "code",
   "execution_count": 19,
   "metadata": {
    "execution": {
     "iopub.execute_input": "2021-07-25T15:46:14.225719Z",
     "iopub.status.busy": "2021-07-25T15:46:14.225148Z",
     "iopub.status.idle": "2021-07-25T15:46:14.230106Z",
     "shell.execute_reply": "2021-07-25T15:46:14.228934Z",
     "shell.execute_reply.started": "2021-07-25T15:46:14.225675Z"
    }
   },
   "outputs": [],
   "source": [
    "from sklearn.linear_model import RidgeClassifier\n",
    "\n",
    "##ridge classification"
   ]
  },
  {
   "cell_type": "code",
   "execution_count": 20,
   "metadata": {
    "execution": {
     "iopub.execute_input": "2021-07-25T15:46:14.232037Z",
     "iopub.status.busy": "2021-07-25T15:46:14.231644Z",
     "iopub.status.idle": "2021-07-25T15:46:14.243354Z",
     "shell.execute_reply": "2021-07-25T15:46:14.242412Z",
     "shell.execute_reply.started": "2021-07-25T15:46:14.231997Z"
    }
   },
   "outputs": [],
   "source": [
    "rc = RidgeClassifier()"
   ]
  },
  {
   "cell_type": "code",
   "execution_count": 21,
   "metadata": {
    "execution": {
     "iopub.execute_input": "2021-07-25T15:46:14.245220Z",
     "iopub.status.busy": "2021-07-25T15:46:14.244766Z",
     "iopub.status.idle": "2021-07-25T15:46:14.360042Z",
     "shell.execute_reply": "2021-07-25T15:46:14.358678Z",
     "shell.execute_reply.started": "2021-07-25T15:46:14.245191Z"
    }
   },
   "outputs": [
    {
     "data": {
      "text/plain": [
       "RidgeClassifier()"
      ]
     },
     "execution_count": 21,
     "metadata": {},
     "output_type": "execute_result"
    }
   ],
   "source": [
    "rc.fit(train_vectors, train_fin[\"target\"])"
   ]
  },
  {
   "cell_type": "code",
   "execution_count": 22,
   "metadata": {
    "execution": {
     "iopub.execute_input": "2021-07-25T15:46:14.366420Z",
     "iopub.status.busy": "2021-07-25T15:46:14.365914Z",
     "iopub.status.idle": "2021-07-25T15:46:14.378457Z",
     "shell.execute_reply": "2021-07-25T15:46:14.377060Z",
     "shell.execute_reply.started": "2021-07-25T15:46:14.366374Z"
    }
   },
   "outputs": [],
   "source": [
    "pred = rc.predict(test_vectors)"
   ]
  },
  {
   "cell_type": "code",
   "execution_count": 23,
   "metadata": {
    "execution": {
     "iopub.execute_input": "2021-07-25T15:46:14.387576Z",
     "iopub.status.busy": "2021-07-25T15:46:14.384799Z",
     "iopub.status.idle": "2021-07-25T15:46:14.399631Z",
     "shell.execute_reply": "2021-07-25T15:46:14.398137Z",
     "shell.execute_reply.started": "2021-07-25T15:46:14.387513Z"
    }
   },
   "outputs": [],
   "source": [
    "result = pd.DataFrame(data = test_fin['id'], columns = ['id'])"
   ]
  },
  {
   "cell_type": "code",
   "execution_count": 24,
   "metadata": {
    "execution": {
     "iopub.execute_input": "2021-07-25T15:46:14.409713Z",
     "iopub.status.busy": "2021-07-25T15:46:14.406908Z",
     "iopub.status.idle": "2021-07-25T15:46:14.419177Z",
     "shell.execute_reply": "2021-07-25T15:46:14.417740Z",
     "shell.execute_reply.started": "2021-07-25T15:46:14.409647Z"
    }
   },
   "outputs": [],
   "source": [
    "result['target'] = pred.astype(int)"
   ]
  },
  {
   "cell_type": "code",
   "execution_count": 25,
   "metadata": {
    "execution": {
     "iopub.execute_input": "2021-07-25T15:46:14.428825Z",
     "iopub.status.busy": "2021-07-25T15:46:14.426055Z",
     "iopub.status.idle": "2021-07-25T15:46:14.453533Z",
     "shell.execute_reply": "2021-07-25T15:46:14.452362Z",
     "shell.execute_reply.started": "2021-07-25T15:46:14.428764Z"
    }
   },
   "outputs": [],
   "source": [
    "result.to_csv('./submission.csv', index = False)"
   ]
  },
  {
   "cell_type": "code",
   "execution_count": 26,
   "metadata": {
    "execution": {
     "iopub.execute_input": "2021-07-25T15:46:14.462107Z",
     "iopub.status.busy": "2021-07-25T15:46:14.459264Z",
     "iopub.status.idle": "2021-07-25T15:46:14.482476Z",
     "shell.execute_reply": "2021-07-25T15:46:14.481502Z",
     "shell.execute_reply.started": "2021-07-25T15:46:14.462043Z"
    }
   },
   "outputs": [
    {
     "data": {
      "text/html": [
       "<div>\n",
       "<style scoped>\n",
       "    .dataframe tbody tr th:only-of-type {\n",
       "        vertical-align: middle;\n",
       "    }\n",
       "\n",
       "    .dataframe tbody tr th {\n",
       "        vertical-align: top;\n",
       "    }\n",
       "\n",
       "    .dataframe thead th {\n",
       "        text-align: right;\n",
       "    }\n",
       "</style>\n",
       "<table border=\"1\" class=\"dataframe\">\n",
       "  <thead>\n",
       "    <tr style=\"text-align: right;\">\n",
       "      <th></th>\n",
       "      <th>id</th>\n",
       "      <th>target</th>\n",
       "    </tr>\n",
       "  </thead>\n",
       "  <tbody>\n",
       "    <tr>\n",
       "      <th>0</th>\n",
       "      <td>0</td>\n",
       "      <td>0</td>\n",
       "    </tr>\n",
       "    <tr>\n",
       "      <th>1</th>\n",
       "      <td>2</td>\n",
       "      <td>1</td>\n",
       "    </tr>\n",
       "    <tr>\n",
       "      <th>2</th>\n",
       "      <td>3</td>\n",
       "      <td>1</td>\n",
       "    </tr>\n",
       "    <tr>\n",
       "      <th>3</th>\n",
       "      <td>9</td>\n",
       "      <td>1</td>\n",
       "    </tr>\n",
       "    <tr>\n",
       "      <th>4</th>\n",
       "      <td>11</td>\n",
       "      <td>1</td>\n",
       "    </tr>\n",
       "  </tbody>\n",
       "</table>\n",
       "</div>"
      ],
      "text/plain": [
       "   id  target\n",
       "0   0       0\n",
       "1   2       1\n",
       "2   3       1\n",
       "3   9       1\n",
       "4  11       1"
      ]
     },
     "execution_count": 26,
     "metadata": {},
     "output_type": "execute_result"
    }
   ],
   "source": [
    "result.head()"
   ]
  },
  {
   "cell_type": "code",
   "execution_count": null,
   "metadata": {},
   "outputs": [],
   "source": []
  }
 ],
 "metadata": {
  "kernelspec": {
   "display_name": "Python 3",
   "language": "python",
   "name": "python3"
  },
  "language_info": {
   "codemirror_mode": {
    "name": "ipython",
    "version": 3
   },
   "file_extension": ".py",
   "mimetype": "text/x-python",
   "name": "python",
   "nbconvert_exporter": "python",
   "pygments_lexer": "ipython3",
   "version": "3.8.5"
  }
 },
 "nbformat": 4,
 "nbformat_minor": 4
}
